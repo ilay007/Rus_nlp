{
 "cells": [
  {
   "cell_type": "code",
   "execution_count": 2,
   "id": "85e360ef-fdf4-4342-8905-c4933b144ec3",
   "metadata": {},
   "outputs": [
    {
     "name": "stderr",
     "output_type": "stream",
     "text": [
      "C:\\Users\\Desk\\anaconda3\\envs\\gpu3\\lib\\site-packages\\transformers\\generation\\utils.py:1201: UserWarning: You have modified the pretrained model configuration to control generation. This is a deprecated strategy to control generation and will be removed soon, in a future version. Please use a generation configuration file (see https://huggingface.co/docs/transformers/main_classes/text_generation)\n",
      "  warnings.warn(\n"
     ]
    },
    {
     "name": "stdout",
     "output_type": "stream",
     "text": [
      "Исправленный текст: Сказка о той, которая не\n"
     ]
    }
   ],
   "source": [
    "from transformers import AutoTokenizer, AutoModelForSeq2SeqLM\n",
    "import torch\n",
    "\n",
    "# Загрузка модели и токенизатора\n",
    "model_name = \"ai-forever/sage-fredt5-large\"\n",
    "tokenizer = AutoTokenizer.from_pretrained(model_name)\n",
    "model = AutoModelForSeq2SeqLM.from_pretrained(model_name)\n",
    "\n",
    "# Перенос модели на GPU\n",
    "device = \"cuda\" if torch.cuda.is_available() else \"cpu\"\n",
    "model.to(device)\n",
    "\n",
    "\n",
    "\n"
   ]
  },
  {
   "cell_type": "code",
   "execution_count": 5,
   "id": "c23bc93f-4921-4c8d-a3c4-f5c25bb574c9",
   "metadata": {},
   "outputs": [],
   "source": [
    "def correct_text(input_text:str,model:AutoModelForSeq2SeqLM):   \n",
    "    # Токенизация текста\n",
    "    inputs = tokenizer(input_text, return_tensors=\"pt\", max_length=128, padding=\"max_length\", truncation=True)\n",
    "    # Перенос входных данных на GPU\n",
    "    inputs = {k: v.to(device) for k, v in inputs.items()}\n",
    "    # Генерация исправленного текста\n",
    "    outputs = model.generate(**inputs, max_length=128)\n",
    "    # Декодирование выхода\n",
    "    corrected_text = tokenizer.decode(outputs[0], skip_special_tokens=True)\n",
    "    print(f\"Исправленный текст: {corrected_text}\")"
   ]
  },
  {
   "cell_type": "code",
   "execution_count": 6,
   "id": "602a2a27-6cdc-4b87-989b-b9f8b0ed1d48",
   "metadata": {},
   "outputs": [
    {
     "name": "stdout",
     "output_type": "stream",
     "text": [
      "Исправленный текст: Сказка о той, которая не\n"
     ]
    }
   ],
   "source": [
    "correct_text(\"Сказка ъ той которая не\",model)"
   ]
  },
  {
   "cell_type": "code",
   "execution_count": 7,
   "id": "ccb69e5d-fbdf-40ac-a58a-5d880c727461",
   "metadata": {},
   "outputs": [
    {
     "name": "stdout",
     "output_type": "stream",
     "text": [
      "Исправленный текст: Красная машина ехала по дороге\n"
     ]
    }
   ],
   "source": [
    "correct_text(\"Красный машина ехало по дороге\",model)"
   ]
  },
  {
   "cell_type": "code",
   "execution_count": 8,
   "id": "3fe9f017-801a-4cef-a05b-7cf0b132f618",
   "metadata": {},
   "outputs": [
    {
     "name": "stdout",
     "output_type": "stream",
     "text": [
      "Модель и токенизатор сохранены в папке ./saved_model\n"
     ]
    }
   ],
   "source": [
    "model_save_path = \"./saved_model\"\n",
    "model.save_pretrained(model_save_path)\n",
    "tokenizer.save_pretrained(model_save_path)\n",
    "\n",
    "print(f\"Модель и токенизатор сохранены в папке {model_save_path}\")"
   ]
  },
  {
   "cell_type": "code",
   "execution_count": 9,
   "id": "42e437ea-1870-42ef-b32d-5d4d252ce1ac",
   "metadata": {},
   "outputs": [
    {
     "name": "stdout",
     "output_type": "stream",
     "text": [
      "Исправленный текст: Красная лимонида весит на ветке\n"
     ]
    }
   ],
   "source": [
    "correct_text(\"Красная лимон весит на ветки\",model)"
   ]
  },
  {
   "cell_type": "code",
   "execution_count": 10,
   "id": "62facb93-5691-49df-ba71-91411e5b5737",
   "metadata": {},
   "outputs": [
    {
     "name": "stdout",
     "output_type": "stream",
     "text": [
      "Исправленный текст: Синяя лиана весит на ветке\n"
     ]
    }
   ],
   "source": [
    "correct_text(\"Синяя лимона весит на ветки\",model)"
   ]
  },
  {
   "cell_type": "code",
   "execution_count": 12,
   "id": "b2caa47a-35c5-45ad-8837-caa9f677d6b2",
   "metadata": {},
   "outputs": [
    {
     "name": "stdout",
     "output_type": "stream",
     "text": [
      "Исправленный текст: Шла Миша по шоссе и соскала сушку.\n"
     ]
    }
   ],
   "source": [
    "correct_text(\"Шла Миша по шассе и соскала сушка\",model)"
   ]
  },
  {
   "cell_type": "code",
   "execution_count": null,
   "id": "8ca63850-7f48-4340-a3de-3279114cac39",
   "metadata": {},
   "outputs": [],
   "source": [
    "correct_text(\"Шла Миша по шассе и соскала сушка\",model)"
   ]
  }
 ],
 "metadata": {
  "kernelspec": {
   "display_name": "Python 3 (ipykernel)",
   "language": "python",
   "name": "python3"
  },
  "language_info": {
   "codemirror_mode": {
    "name": "ipython",
    "version": 3
   },
   "file_extension": ".py",
   "mimetype": "text/x-python",
   "name": "python",
   "nbconvert_exporter": "python",
   "pygments_lexer": "ipython3",
   "version": "3.9.19"
  }
 },
 "nbformat": 4,
 "nbformat_minor": 5
}
