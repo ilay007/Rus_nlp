{
 "cells": [
  {
   "cell_type": "code",
   "execution_count": 1,
   "id": "78231fda-06e6-401e-a5c3-a686b8c755ba",
   "metadata": {},
   "outputs": [
    {
     "name": "stderr",
     "output_type": "stream",
     "text": [
      "C:\\Users\\Desk\\anaconda3\\envs\\gpu3\\lib\\site-packages\\tqdm\\auto.py:21: TqdmWarning: IProgress not found. Please update jupyter and ipywidgets. See https://ipywidgets.readthedocs.io/en/stable/user_install.html\n",
      "  from .autonotebook import tqdm as notebook_tqdm\n",
      "C:\\Users\\Desk\\anaconda3\\envs\\gpu3\\lib\\site-packages\\huggingface_hub\\file_download.py:1142: FutureWarning: `resume_download` is deprecated and will be removed in version 1.0.0. Downloads always resume when possible. If you want to force a new download, use `force_download=True`.\n",
      "  warnings.warn(\n",
      "Downloading shards:   0%|          | 0/2 [00:00<?, ?it/s]C:\\Users\\Desk\\anaconda3\\envs\\gpu3\\lib\\site-packages\\huggingface_hub\\file_download.py:147: UserWarning: `huggingface_hub` cache-system uses symlinks by default to efficiently store duplicated files but your machine does not support them in C:\\Users\\Desk\\.cache\\huggingface\\hub\\models--RussianNLP--FRED-T5-Summarizer. Caching files will still work but in a degraded version that might require more space on your disk. This warning can be disabled by setting the `HF_HUB_DISABLE_SYMLINKS_WARNING` environment variable. For more details, see https://huggingface.co/docs/huggingface_hub/how-to-cache#limitations.\n",
      "To support symlinks on Windows, you either need to activate Developer Mode or to run Python as an administrator. In order to activate developer mode, see this article: https://docs.microsoft.com/en-us/windows/apps/get-started/enable-your-device-for-development\n",
      "  warnings.warn(message)\n",
      "Downloading shards: 100%|██████████| 2/2 [02:16<00:00, 68.05s/it]\n",
      "Loading checkpoint shards: 100%|██████████| 2/2 [00:22<00:00, 11.33s/it]\n"
     ]
    },
    {
     "name": "stdout",
     "output_type": "stream",
     "text": [
      "Иван выращивал картофель и морковь, чтобы заботиться о своём скромном участке земли. Он проводил вечера у камина, читая книги и вспоминая молодость. Жизнь в деревне была тяжёлая, но Иван находил в ней простые радости.</s>\n"
     ]
    }
   ],
   "source": [
    "import torch\n",
    "from transformers import GPT2Tokenizer, T5ForConditionalGeneration \n",
    "tokenizer = GPT2Tokenizer.from_pretrained('RussianNLP/FRED-T5-Summarizer',eos_token='</s>')\n",
    "model = T5ForConditionalGeneration.from_pretrained('RussianNLP/FRED-T5-Summarizer')\n",
    "device='cuda'\n",
    "model.to(device)\n",
    "\n",
    "input_text='<LM> Сократи текст.\\n В деревне, затерянной среди зелёных холмов, жил старик по имени Иван. Его жизнь протекала медленно и размеренно. Каждое утро Иван выходил на поля, чтобы заботиться о своём скромном участке земли. Он выращивал картофель и морковь, которые были его главным источником пищи. Вечера старик проводил у камина, читая книги и вспоминая молодость. Жизнь в деревне была тяжёлая, но Иван находил в ней простые радости.'\n",
    "input_ids=torch.tensor([tokenizer.encode(input_text)]).to(device)\n",
    "outputs=model.generate(input_ids,eos_token_id=tokenizer.eos_token_id,\n",
    "                    num_beams=5,\n",
    "                    min_new_tokens=17,\n",
    "                    max_new_tokens=200,\n",
    "                    do_sample=True,\n",
    "                    no_repeat_ngram_size=4,\n",
    "                    top_p=0.9)\n",
    "print(tokenizer.decode(outputs[0][1:]))\n",
    "\n",
    "# print result: Старик Иван живёт размеренной жизнью в деревне, выращивая овощи и находя радость в простых вещах.\n"
   ]
  },
  {
   "cell_type": "code",
   "execution_count": 12,
   "id": "0926a15f-67b3-49c3-b9bd-2fd3f8fb2c81",
   "metadata": {},
   "outputs": [
    {
     "name": "stdout",
     "output_type": "stream",
     "text": [
      "Российский беспилотный летательный аппарат С-70, который был сбит украинским истребителем Су-27 в небе над Донбассом, скорее всего, использовался в боевых действиях в рамках его продолжающейся разработки. Об этом заявил в беседе с корреспондентом Русской службы Би-би-си военный эксперт, полковник в отставке Виктор Роговей.</s>\n"
     ]
    }
   ],
   "source": [
    "input_text='<LM> Сократи текст.\\n Роговей предполагает, что С-70 использовался в боевых действиях в рамках его продолжающейся разработки. Говоря же о причинах того, почему он был сбит собственным же самолетом, он считает, что операторы могли потерять управление БПЛА, тот отклонился от курса над территорией, контролируемой Украиной. «Мог произойти сбой в системах, и здесь мы говорим об очень плотной среде радиоэлектронной борьбы», — предполагает автор.Также, по его словам, сбивать собственные беспилотники в случае, если их потеря представляет угрозу безопасности — «обычное явление», и США делали так много раз. «Такой беспилотник как С-70, потерянный на украинской территории в полунеповрежденном состоянии, стал бы огромной проблемой для России, поэтому, похоже, было принято решение уничтожить его. Попадание больших его частей в руки западной разведки было бы большим делом», — добавил Роговей, при этом указав, что его крупные обломки уже были быстро вывезены.'\n",
    "input_ids=torch.tensor([tokenizer.encode(input_text)]).to(device)\n",
    "input_ids=torch.tensor([tokenizer.encode(input_text)]).to(device)\n",
    "outputs=model.generate(input_ids,eos_token_id=tokenizer.eos_token_id,\n",
    "                    num_beams=5,\n",
    "                    min_new_tokens=17,\n",
    "                    max_new_tokens=200,\n",
    "                    do_sample=True,\n",
    "                    no_repeat_ngram_size=4,\n",
    "                    top_p=0.9)\n",
    "print(tokenizer.decode(outputs[0][1:]))"
   ]
  },
  {
   "cell_type": "code",
   "execution_count": null,
   "id": "9fa103e8-feaf-4243-a39b-3e44cb290026",
   "metadata": {},
   "outputs": [],
   "source": []
  }
 ],
 "metadata": {
  "kernelspec": {
   "display_name": "Python 3 (ipykernel)",
   "language": "python",
   "name": "python3"
  },
  "language_info": {
   "codemirror_mode": {
    "name": "ipython",
    "version": 3
   },
   "file_extension": ".py",
   "mimetype": "text/x-python",
   "name": "python",
   "nbconvert_exporter": "python",
   "pygments_lexer": "ipython3",
   "version": "3.9.19"
  }
 },
 "nbformat": 4,
 "nbformat_minor": 5
}
